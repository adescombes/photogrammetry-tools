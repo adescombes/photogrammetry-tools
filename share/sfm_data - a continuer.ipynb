{
 "cells": [
  {
   "cell_type": "markdown",
   "metadata": {},
   "source": [
    "### outil général pour checker le sfm data, les matches, aussi les photos non placées\n",
    "\n",
    "+ upgrade plot_camera_poses avec orientation des cameras"
   ]
  },
  {
   "cell_type": "code",
   "execution_count": 1,
   "metadata": {},
   "outputs": [],
   "source": [
    "import json\n",
    "import pandas as pd\n",
    "import numpy as np\n",
    "import os\n",
    "from glob import glob\n",
    "\n",
    "SFM_MOUNT = '/media/gargantua/1000-plane/0000-sfm/'"
   ]
  },
  {
   "cell_type": "code",
   "execution_count": 2,
   "metadata": {},
   "outputs": [],
   "source": [
    "# input : svg file (\"Geometric\" or \"Putative\" Adjacency Matrix) for a given model\n",
    "# output : list of matches\n",
    "def read_adj_mat(model, matrix): \n",
    "    matches = []\n",
    "    svg_file = SFM_MOUNT + \"/\" + model[0:4] + \"/\" + model[4:8] + \"/\" + model + \"/systems/omvg/matches/\" + matrix + \"AdjacencyMatrix.svg\"\n",
    "    for line in open(svg_file, 'r').read().split('\\n'):\n",
    "        if \"<rect\" in line:\n",
    "            x = ( np.float(line.split('\"')[1]) / 5 )\n",
    "            y = ( np.float(line.split('\"')[3]) / 5 )\n",
    "            matches.append(sorted([int(x),int(y)]))\n",
    "    return matches\n",
    "\n",
    "# input : list of matches\n",
    "# output : matrix to display/save\n",
    "def disp_matches(matches):\n",
    "    m = np.zeros((max(max(matches)) + 1, max(max(matches)) + 1))\n",
    "\n",
    "    for pair in matches:\n",
    "        i = pair[0]\n",
    "        j = pair[1]\n",
    "        m[i,j] = 1\n",
    "    return m\n",
    "\n"
   ]
  },
  {
   "cell_type": "code",
   "execution_count": 13,
   "metadata": {},
   "outputs": [],
   "source": [
    "#def sfm_info(path): # takes either a model or a full path to the json file as input\n",
    "sfm_data_path = SFM_MOUNT + \"/\" + model[0:4] + \"/\" + model[4:8] + \"/\" + model + \"/systems/omvg/sfm_data.json\"\n",
    "if not os.path.exists(sfm_data_path):\n",
    "    sfm_data_path = model \n",
    "\n",
    "with open(sfm_data_path) as sfm_data:\n",
    "    data = json.load(sfm_data)\n",
    "    views = data['views']\n",
    "    extrinsics = data['extrinsics']\n",
    "    intrinsics = data['intrinsics']\n",
    "    structure = data['structure']\n",
    "    control_points = data['control_points'] # sert pas à grand chose pour l'instant\n"
   ]
  },
  {
   "cell_type": "code",
   "execution_count": null,
   "metadata": {},
   "outputs": [],
   "source": [
    "views_keys = []\n",
    "files = []\n",
    "\n",
    "for view in views:\n",
    "    views_keys.append(view['key'])\n",
    "    files.append(view['value']['ptr_wrapper']['data']['filename'].replace('.tif',''))\n",
    "\n",
    "key_to_file_dict = dict(zip(views_keys,files))\n",
    "\n",
    "extrinsics_keys = []\n",
    "camera_poses = []\n",
    "for extrinsic in extrinsics:\n",
    "    extrinsics_keys.append(extrinsic['key'])\n",
    "    camera_poses.append(extrinsic['value']['center'])\n",
    "\n",
    "key_to_pose_dict = dict(zip(extrinsics_keys,camera_poses))\n",
    "pd.DataFrame([key_to_file_dict,key_to_pose_dict]).transpose().rename(columns = {0:'filename',1:'coor'})\n"
   ]
  }
 ],
 "metadata": {
  "kernelspec": {
   "display_name": "Python 3",
   "language": "python",
   "name": "python3"
  },
  "language_info": {
   "codemirror_mode": {
    "name": "ipython",
    "version": 3
   },
   "file_extension": ".py",
   "mimetype": "text/x-python",
   "name": "python",
   "nbconvert_exporter": "python",
   "pygments_lexer": "ipython3",
   "version": "3.7.3"
  }
 },
 "nbformat": 4,
 "nbformat_minor": 2
}
