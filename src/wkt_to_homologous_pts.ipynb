{
 "cells": [
  {
   "cell_type": "code",
   "execution_count": 2,
   "metadata": {},
   "outputs": [],
   "source": [
    "import pandas as pd\n",
    "import numpy as np\n",
    "import re\n",
    "import sys\n",
    "sys.path.append('/home/descombe/Desktop/photogrammetry-tools/src/utils.py')\n",
    "from utils import get_sfm_data_as_dict"
   ]
  },
  {
   "cell_type": "code",
   "execution_count": 3,
   "metadata": {},
   "outputs": [],
   "source": [
    "#file = '/media/gargantua/1000-plane/0000-sfm/2021/0102/20210102-163659-20200224-00001-suisse-sion-0001-loop-1-2-normalized/geodesy_test/test.csv'\n",
    "#file = '/media/gargantua/1000-plane/0000-sfm/2021/0120/20210120-195740-20200225-00001-suisse-sion-0001-loop-13-normalized/geodesy/test.csv'\n",
    "#file = '/media/scanvan/model/camera_40008603-40009302/20201006/20201006-174611_20200224-152852_sion-loop-7/geodesy/test.csv'\n",
    "file = '/media/gargantua/1000-plane/0000-sfm/2021/0102/20210102-174708-20200224-00001-suisse-sion-0001-loop-3-normalized/geodesy/loop3.csv'\n",
    "wkt = pd.read_csv(file, dtype=str)\n"
   ]
  },
  {
   "cell_type": "code",
   "execution_count": 4,
   "metadata": {},
   "outputs": [
    {
     "data": {
      "text/html": [
       "<div>\n",
       "<style scoped>\n",
       "    .dataframe tbody tr th:only-of-type {\n",
       "        vertical-align: middle;\n",
       "    }\n",
       "\n",
       "    .dataframe tbody tr th {\n",
       "        vertical-align: top;\n",
       "    }\n",
       "\n",
       "    .dataframe thead th {\n",
       "        text-align: right;\n",
       "    }\n",
       "</style>\n",
       "<table border=\"1\" class=\"dataframe\">\n",
       "  <thead>\n",
       "    <tr style=\"text-align: right;\">\n",
       "      <th></th>\n",
       "      <th>WKT</th>\n",
       "      <th>X</th>\n",
       "      <th>Y</th>\n",
       "      <th>Z</th>\n",
       "      <th>filename</th>\n",
       "    </tr>\n",
       "  </thead>\n",
       "  <tbody>\n",
       "    <tr>\n",
       "      <th>0</th>\n",
       "      <td>POINT Z (2593844.53757659 1120435.04500741 0)</td>\n",
       "      <td>2593851.801105999853462</td>\n",
       "      <td>1120427.781478000106290</td>\n",
       "      <td>526.671062000000006</td>\n",
       "      <td>20200224-112105-962881.jpg</td>\n",
       "    </tr>\n",
       "    <tr>\n",
       "      <th>1</th>\n",
       "      <td>POINT Z (2593843.16036059 1120434.50652241 0)</td>\n",
       "      <td>2593850.423890000209212</td>\n",
       "      <td>1120427.242992999963462</td>\n",
       "      <td>526.652822000000015</td>\n",
       "      <td>20200224-112106-212819.jpg</td>\n",
       "    </tr>\n",
       "    <tr>\n",
       "      <th>2</th>\n",
       "      <td>POINT Z (2593841.80106059 1120433.97736341 0)</td>\n",
       "      <td>2593849.064590000081807</td>\n",
       "      <td>1120426.713834000052884</td>\n",
       "      <td>526.627574999999979</td>\n",
       "      <td>20200224-112106-462841.jpg</td>\n",
       "    </tr>\n",
       "    <tr>\n",
       "      <th>3</th>\n",
       "      <td>POINT Z (2593840.43369459 1120433.47223441 0)</td>\n",
       "      <td>2593847.697224000003189</td>\n",
       "      <td>1120426.208705000113696</td>\n",
       "      <td>526.609459000000015</td>\n",
       "      <td>20200224-112106-712813.jpg</td>\n",
       "    </tr>\n",
       "    <tr>\n",
       "      <th>4</th>\n",
       "      <td>POINT Z (2593839.01347159 1120432.97837641 0)</td>\n",
       "      <td>2593846.277001000009477</td>\n",
       "      <td>1120425.714847000082955</td>\n",
       "      <td>526.589748999999983</td>\n",
       "      <td>20200224-112106-962861.jpg</td>\n",
       "    </tr>\n",
       "  </tbody>\n",
       "</table>\n",
       "</div>"
      ],
      "text/plain": [
       "                                             WKT                        X  \\\n",
       "0  POINT Z (2593844.53757659 1120435.04500741 0)  2593851.801105999853462   \n",
       "1  POINT Z (2593843.16036059 1120434.50652241 0)  2593850.423890000209212   \n",
       "2  POINT Z (2593841.80106059 1120433.97736341 0)  2593849.064590000081807   \n",
       "3  POINT Z (2593840.43369459 1120433.47223441 0)  2593847.697224000003189   \n",
       "4  POINT Z (2593839.01347159 1120432.97837641 0)  2593846.277001000009477   \n",
       "\n",
       "                         Y                    Z                    filename  \n",
       "0  1120427.781478000106290  526.671062000000006  20200224-112105-962881.jpg  \n",
       "1  1120427.242992999963462  526.652822000000015  20200224-112106-212819.jpg  \n",
       "2  1120426.713834000052884  526.627574999999979  20200224-112106-462841.jpg  \n",
       "3  1120426.208705000113696  526.609459000000015  20200224-112106-712813.jpg  \n",
       "4  1120425.714847000082955  526.589748999999983  20200224-112106-962861.jpg  "
      ]
     },
     "execution_count": 4,
     "metadata": {},
     "output_type": "execute_result"
    }
   ],
   "source": [
    "wkt.head(5)"
   ]
  },
  {
   "cell_type": "code",
   "execution_count": 5,
   "metadata": {},
   "outputs": [],
   "source": [
    "structure_dict, views_dict, extrinsics_dict, intrinsics = get_sfm_data_as_dict(file.replace('geodesy/loop3.csv','omvg/sfm_data_bin.json'))"
   ]
  },
  {
   "cell_type": "code",
   "execution_count": 14,
   "metadata": {},
   "outputs": [
    {
     "data": {
      "text/plain": [
       "699"
      ]
     },
     "execution_count": 14,
     "metadata": {},
     "output_type": "execute_result"
    }
   ],
   "source": [
    "len(extrinsics_dict)"
   ]
  },
  {
   "cell_type": "code",
   "execution_count": 15,
   "metadata": {},
   "outputs": [],
   "source": [
    "file_out = file.replace('loop3.csv','homologous.dat')\n",
    "with open(file_out, 'w') as f:\n",
    "    for row_id in range(0, len(wkt), 20):\n",
    "        if extrinsics_dict.get(row_id) is not None:\n",
    "            #filename = wkt.iloc[row_id]['filename']\n",
    "            #filename_ = views_dict.get(row_id)['ptr_wrapper']['data']['filename']\n",
    "            coor_before = extrinsics_dict.get(row_id)['center']\n",
    "            coor_after = wkt.iloc[row_id]['WKT']\n",
    "            coor_digits = re.sub(\"[^0-9]\", \" \", coor_after).strip()\n",
    "            x_after = '.'.join(coor_digits.split()[0:2])\n",
    "            y_after = '.'.join(coor_digits.split()[2:4])\n",
    "            z_after = wkt.iloc[row_id]['Z']\n",
    "            #z_after = np.float('.'.join(coor_digits.split()[4:]))\n",
    "            #x_after = wkt.iloc[row_id]['X']\n",
    "            #y_after = wkt.iloc[row_id]['Y']\n",
    "            for coor in coor_before:\n",
    "                f.write(\"%s \" % coor)\n",
    "            f.write(\"%s %s %f\\n\" % (x_after, y_after, float(z_after)))\n"
   ]
  },
  {
   "cell_type": "code",
   "execution_count": 26,
   "metadata": {},
   "outputs": [],
   "source": [
    "csv = pd.read_csv('/media/scanvan/model/camera_40008603-40009302/20201006/20201006-174611_20200224-152852_sion-loop-7/geodesy/_20201006-174611_20200224-152852_sion-loop-7-vodom-omvg-epsg2056.csv', dtype=str)"
   ]
  },
  {
   "cell_type": "code",
   "execution_count": 27,
   "metadata": {},
   "outputs": [],
   "source": [
    "header = 'ply\\nformat %s 1.0\\nelement vertex %d\\nproperty float64 x\\nproperty float64 y\\nproperty float64 z\\nproperty uchar red\\nproperty uchar green\\nproperty uchar blue\\nend_header\\n' %('ascii', len(csv))"
   ]
  },
  {
   "cell_type": "code",
   "execution_count": 15,
   "metadata": {},
   "outputs": [
    {
     "data": {
      "text/plain": [
       "0       2593686.694522\n",
       "1       2593686.581918\n",
       "2       2593686.470146\n",
       "3       2593686.356271\n",
       "4       2593686.233954\n",
       "             ...      \n",
       "1729    2593945.570364\n",
       "1730    2593947.212720\n",
       "1731    2593948.865674\n",
       "1732    2593950.534753\n",
       "1733    2593952.212812\n",
       "Name: X, Length: 1734, dtype: object"
      ]
     },
     "execution_count": 15,
     "metadata": {},
     "output_type": "execute_result"
    }
   ],
   "source": [
    "csv.X"
   ]
  },
  {
   "cell_type": "code",
   "execution_count": 28,
   "metadata": {},
   "outputs": [],
   "source": [
    "\n",
    "with open('/media/scanvan/model/camera_40008603-40009302/20201006/20201006-174611_20200224-152852_sion-loop-7/geodesy/_20201006-174611_20200224-152852_sion-loop-7-vodom-omvg-epsg2056.ply', 'w') as f:\n",
    "    for line in header:\n",
    "        f.write(\"%s\" % line)\n",
    "    for i, row in csv.iterrows():\n",
    "        f.write(\"%s %s %s 0 255 0\\n\" % (row['X'], row['Y'], float(row['Z'])))\n",
    "        "
   ]
  },
  {
   "cell_type": "code",
   "execution_count": null,
   "metadata": {},
   "outputs": [],
   "source": []
  }
 ],
 "metadata": {
  "kernelspec": {
   "display_name": "Python 3",
   "language": "python",
   "name": "python3"
  },
  "language_info": {
   "codemirror_mode": {
    "name": "ipython",
    "version": 3
   },
   "file_extension": ".py",
   "mimetype": "text/x-python",
   "name": "python",
   "nbconvert_exporter": "python",
   "pygments_lexer": "ipython3",
   "version": "3.8.5"
  }
 },
 "nbformat": 4,
 "nbformat_minor": 4
}
