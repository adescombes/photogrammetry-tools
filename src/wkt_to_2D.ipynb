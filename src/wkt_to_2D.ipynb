{
 "cells": [
  {
   "cell_type": "code",
   "execution_count": 1,
   "id": "063631ad",
   "metadata": {},
   "outputs": [],
   "source": [
    "path = '/Users/descombe/Desktop/QGIS/MHL/Bati_1727_Melotte.csv'"
   ]
  },
  {
   "cell_type": "code",
   "execution_count": 32,
   "id": "8128167d",
   "metadata": {},
   "outputs": [],
   "source": [
    "import sys\n",
    "import pandas as pd\n",
    "import numpy as np\n",
    "import matplotlib.pyplot as plt\n"
   ]
  },
  {
   "cell_type": "code",
   "execution_count": 132,
   "id": "1442df9c",
   "metadata": {},
   "outputs": [],
   "source": [
    "wkt = pd.read_csv(path, header=0, usecols = ['WKT'])\n",
    "height_df = pd.read_csv(path, header=0, usecols = ['height'])\n",
    "\n",
    "if 'POINT' in wkt['WKT'][0]:\n",
    "    geometry = wkt['WKT'].apply(lambda x : x.replace('POINT ', '').replace('(', '').replace(')', '').strip())\n",
    "#elif 'POLYGON' in wkt['WKT'][0]:\n",
    "#    geometry = wkt['WKT'].apply(lambda x : x.replace('POLYGON ', '').replace('(', '').replace(')', '').strip())\n",
    "\n",
    "elif 'MULTIPOLYGON' in wkt['WKT'][0]:\n",
    "    geometry = wkt['WKT'].apply(lambda x : x.replace('MULTIPOLYGON', '').replace('(', '').replace(')', '').strip())\n",
    "\n",
    "height_df.fillna(0, inplace = True)\n",
    "height_df = height_df.astype(int)\n",
    "height = [x[0] for x in height_df.values]"
   ]
  },
  {
   "cell_type": "code",
   "execution_count": 133,
   "id": "bc844bb2",
   "metadata": {},
   "outputs": [
    {
     "name": "stderr",
     "output_type": "stream",
     "text": [
      "<ipython-input-133-ece2a9440e1d>:15: DeprecationWarning: `np.float` is a deprecated alias for the builtin `float`. To silence this warning, use `float` by itself. Doing this will not modify any behavior and is safe. If you specifically wanted the numpy scalar type, use `np.float64` here.\n",
      "Deprecated in NumPy 1.20; for more details and guidance: https://numpy.org/devdocs/release/1.20.0-notes.html#deprecations\n",
      "  x = np.float( coor.split()[0] )\n",
      "<ipython-input-133-ece2a9440e1d>:16: DeprecationWarning: `np.float` is a deprecated alias for the builtin `float`. To silence this warning, use `float` by itself. Doing this will not modify any behavior and is safe. If you specifically wanted the numpy scalar type, use `np.float64` here.\n",
      "Deprecated in NumPy 1.20; for more details and guidance: https://numpy.org/devdocs/release/1.20.0-notes.html#deprecations\n",
      "  y = np.float( coor.split()[1] )\n"
     ]
    }
   ],
   "source": [
    "pt_list = []\n",
    "vertices_list = []\n",
    "x_list = []\n",
    "y_list = []\n",
    "poly_list = []\n",
    "\n",
    "z_0 = [0 * x for x in height]\n",
    "\n",
    "for coors, z in zip(geometry.tolist() + geometry.tolist(), z_0 + height):\n",
    "    \n",
    "    poly = []\n",
    "    \n",
    "    for coor in coors.split(','):\n",
    "        \n",
    "        x = np.float( coor.split()[0] )\n",
    "        y = np.float( coor.split()[1] )\n",
    "        \n",
    "        poly.append( [ x , y , z ])\n",
    "        x_list.append( x )\n",
    "        y_list.append( y )\n",
    "        \n",
    "    poly_list.append( poly )"
   ]
  },
  {
   "cell_type": "code",
   "execution_count": 141,
   "id": "f6863d54",
   "metadata": {},
   "outputs": [
    {
     "data": {
      "text/plain": [
       "1860"
      ]
     },
     "execution_count": 141,
     "metadata": {},
     "output_type": "execute_result"
    }
   ],
   "source": [
    "len(poly_list)"
   ]
  },
  {
   "cell_type": "code",
   "execution_count": 142,
   "id": "621c62cc",
   "metadata": {},
   "outputs": [],
   "source": [
    "faces_list  = []\n",
    "\n",
    "vert_a = 0\n",
    "\n",
    "for poly in poly_list:\n",
    "    \n",
    "    faces  = []\n",
    "\n",
    "    for j in range(vert_a, vert_a + len(poly) - 1 ):\n",
    "        \n",
    "        vertices_list.append( [j, j + 1] )\n",
    "        faces.append( j )\n",
    "    \n",
    "    faces.append( j + 1 )\n",
    "    faces_list.append(faces)\n",
    "    vert_a += len(poly)"
   ]
  },
  {
   "cell_type": "code",
   "execution_count": 143,
   "id": "dd9341aa",
   "metadata": {},
   "outputs": [
    {
     "data": {
      "text/plain": [
       "10600"
      ]
     },
     "execution_count": 143,
     "metadata": {},
     "output_type": "execute_result"
    }
   ],
   "source": [
    "len(vertices_list)"
   ]
  },
  {
   "cell_type": "code",
   "execution_count": 152,
   "id": "352f38ac",
   "metadata": {},
   "outputs": [
    {
     "data": {
      "text/plain": [
       "12458"
      ]
     },
     "execution_count": 152,
     "metadata": {},
     "output_type": "execute_result"
    }
   ],
   "source": [
    "max(max(faces_list)) - 1 "
   ]
  },
  {
   "cell_type": "code",
   "execution_count": null,
   "id": "fea57f78",
   "metadata": {},
   "outputs": [],
   "source": [
    "\"\"\"\n",
    "pt_list = []\n",
    "mean_x = np.mean(x_list)\n",
    "mean_y = np.mean(y_list)\n",
    "\n",
    "\n",
    "height = [z[0] for z in height_df.values]\n",
    "mean_z = np.mean(height)\n",
    "\n",
    "z = 0\n",
    "\n",
    "\n",
    "for x, y in zip(x_list, y_list):\n",
    "    pt_list.append( [ ( x - mean_x ) , ( y - mean_y )  , z ] )         \n",
    "        \n",
    "\n",
    "for x, y, z in zip(x_list, y_list, height):\n",
    "    pt_list.append( [ ( x - mean_x ) , ( y - mean_y )  , z - mean_z ] )         \n",
    "    \n",
    "for coors in geometry:\n",
    "    \"\"\""
   ]
  },
  {
   "cell_type": "code",
   "execution_count": 96,
   "id": "65207158",
   "metadata": {},
   "outputs": [],
   "source": [
    "\n",
    "\"\"\"vertices_coor = []\n",
    "\n",
    "for pts in poly_list:\n",
    "    for pt in pts:\n",
    "        vertices_coor.append([pt[0], pt[1], 0])\n",
    "        \n",
    "for pts, z in zip(poly_list, height):\n",
    "    for pt in pts:\n",
    "        vertices_coor.append([pt[0], pt[1], z])\n",
    "        \n",
    "\n",
    "for j in range(vert_a, vert_a + len(coors.split(',')) - 1 ):\n",
    "\n",
    "    vertices_list.append( [j, j + 1] )\n",
    "    faces.append( j )\n",
    "\n",
    "faces.append( j + 1 )\n",
    "faces_list.append(faces)\n",
    "vert_a += len(coors.split(','))\"\"\""
   ]
  },
  {
   "cell_type": "code",
   "execution_count": 153,
   "id": "d57a17e2",
   "metadata": {},
   "outputs": [],
   "source": [
    "header = ['ply',\n",
    " 'format ascii 1.0',\n",
    " 'element vertex %d' % ( max(max(faces_list)) - 1 ),\n",
    " 'property double x',\n",
    " 'property double y',\n",
    " 'property double z',\n",
    " 'property uchar red',\n",
    " 'property uchar green',\n",
    " 'property uchar blue',\n",
    "      'element face %s' % len(faces_list),\n",
    "'property list uchar int vertex_index',\n",
    " 'end_header']\n",
    "\n",
    "z = 0 # can be modified but the same height will be assigned to all points\n",
    "\n",
    "path_out = path.replace('.csv', '.ply')\n",
    "with open(path_out, 'w') as file:\n",
    "    for line in header:\n",
    "        file.write(\"%s\\n\" % line)\n",
    "    for pt in pt_list:\n",
    "        file.write(\"%f %f %d 255 0 0\\n\" % (pt[0], pt[1], z))     \n",
    "    #for pt in vertices_list:\n",
    "    #    file.write(\"%d %d 255 0 0\\n\" % (pt[0], pt[1])) \n",
    "    for pts in faces_list:\n",
    "        file.write(\"%d \" % len(pts))\n",
    "        for pt in pts:\n",
    "            file.write(\"%d \" % pt)\n",
    "        file.write(\"\\n\")\n",
    "        \n"
   ]
  },
  {
   "cell_type": "code",
   "execution_count": 23,
   "id": "0230e2d4",
   "metadata": {},
   "outputs": [
    {
     "ename": "IndentationError",
     "evalue": "unexpected indent (<ipython-input-23-bf2fc6fbb4e4>, line 2)",
     "output_type": "error",
     "traceback": [
      "\u001b[0;36m  File \u001b[0;32m\"<ipython-input-23-bf2fc6fbb4e4>\"\u001b[0;36m, line \u001b[0;32m2\u001b[0m\n\u001b[0;31m    'property int vertex1',\u001b[0m\n\u001b[0m    ^\u001b[0m\n\u001b[0;31mIndentationError\u001b[0m\u001b[0;31m:\u001b[0m unexpected indent\n"
     ]
    }
   ],
   "source": [
    "  'element edge %s' % len(vertices_list),\n",
    "    'property int vertex1',\n",
    "    'property int vertex2',\n",
    "    'property uchar red',\n",
    "    'property uchar green',\n",
    "    'property uchar blue',"
   ]
  },
  {
   "cell_type": "code",
   "execution_count": 39,
   "id": "02c9a1aa",
   "metadata": {},
   "outputs": [
    {
     "data": {
      "text/plain": [
       "2538266.40918202"
      ]
     },
     "execution_count": 39,
     "metadata": {},
     "output_type": "execute_result"
    }
   ],
   "source": [
    "# normalize and -0.5\n",
    "np.linalg.norm(x_list)"
   ]
  },
  {
   "cell_type": "code",
   "execution_count": 42,
   "id": "70a1526c",
   "metadata": {},
   "outputs": [],
   "source": [
    "xplot = []\n",
    "for x in x_list:\n",
    "    xplot.append( ( x - np.mean(x_list) ) / np.linalg.norm(x_list) )"
   ]
  },
  {
   "cell_type": "code",
   "execution_count": 75,
   "id": "3ee2f21c",
   "metadata": {},
   "outputs": [
    {
     "data": {
      "text/plain": [
       "[<matplotlib.lines.Line2D at 0x7fbca6d01ee0>]"
      ]
     },
     "execution_count": 75,
     "metadata": {},
     "output_type": "execute_result"
    },
    {
     "data": {
      "image/png": "[encoded data removed]",
      "text/plain": [
       "<Figure size 432x288 with 1 Axes>"
      ]
     },
     "metadata": {
      "needs_background": "light"
     },
     "output_type": "display_data"
    }
   ],
   "source": [
    "plt.plot(xplot)"
   ]
  },
  {
   "cell_type": "code",
   "execution_count": 76,
   "id": "dbec5898",
   "metadata": {},
   "outputs": [
    {
     "data": {
      "text/plain": [
       "(-2.5298712430682426e-06, 2.29560055705747e-06)"
      ]
     },
     "execution_count": 76,
     "metadata": {},
     "output_type": "execute_result"
    }
   ],
   "source": [
    "min(xplot), max(xplot)"
   ]
  },
  {
   "cell_type": "code",
   "execution_count": null,
   "id": "ed8b699c",
   "metadata": {},
   "outputs": [],
   "source": []
  }
 ],
 "metadata": {
  "kernelspec": {
   "display_name": "Python 3",
   "language": "python",
   "name": "python3"
  },
  "language_info": {
   "codemirror_mode": {
    "name": "ipython",
    "version": 3
   },
   "file_extension": ".py",
   "mimetype": "text/x-python",
   "name": "python",
   "nbconvert_exporter": "python",
   "pygments_lexer": "ipython3",
   "version": "3.9.1"
  }
 },
 "nbformat": 4,
 "nbformat_minor": 5
}
