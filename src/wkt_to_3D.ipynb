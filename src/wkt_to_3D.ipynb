{
 "cells": [
  {
   "cell_type": "code",
   "execution_count": 1,
   "id": "063631ad",
   "metadata": {},
   "outputs": [],
   "source": [
    "path = '/Users/descombe/Desktop/QGIS/MHL/Bati_1727_Melotte.csv'"
   ]
  },
  {
   "cell_type": "code",
   "execution_count": 2,
   "id": "8128167d",
   "metadata": {},
   "outputs": [],
   "source": [
    "import sys\n",
    "import pandas as pd\n",
    "import numpy as np\n",
    "import matplotlib.pyplot as plt\n"
   ]
  },
  {
   "cell_type": "code",
   "execution_count": 3,
   "id": "1442df9c",
   "metadata": {},
   "outputs": [],
   "source": [
    "wkt = pd.read_csv(path, header=0, usecols = ['WKT'])\n",
    "height_df = pd.read_csv(path, header=0, usecols = ['height'])\n",
    "\n",
    "if 'POINT' in wkt['WKT'][0]:\n",
    "    geometry = wkt['WKT'].apply(lambda x : x.replace('POINT ', '').replace('(', '').replace(')', '').strip())\n",
    "#elif 'POLYGON' in wkt['WKT'][0]:\n",
    "#    geometry = wkt['WKT'].apply(lambda x : x.replace('POLYGON ', '').replace('(', '').replace(')', '').strip())\n",
    "\n",
    "elif 'MULTIPOLYGON' in wkt['WKT'][0]:\n",
    "    geometry = wkt['WKT'].apply(lambda x : x.replace('MULTIPOLYGON', '').replace('(', '').replace(')', '').strip())\n",
    "\n",
    "height_df.fillna(0, inplace = True)\n",
    "height_df = height_df.astype(int)\n",
    "height = [x[0] for x in height_df.values]"
   ]
  },
  {
   "cell_type": "code",
   "execution_count": null,
   "id": "ed8b699c",
   "metadata": {},
   "outputs": [],
   "source": []
  }
 ],
 "metadata": {
  "kernelspec": {
   "display_name": "Python 3",
   "language": "python",
   "name": "python3"
  },
  "language_info": {
   "codemirror_mode": {
    "name": "ipython",
    "version": 3
   },
   "file_extension": ".py",
   "mimetype": "text/x-python",
   "name": "python",
   "nbconvert_exporter": "python",
   "pygments_lexer": "ipython3",
   "version": "3.9.1"
  }
 },
 "nbformat": 4,
 "nbformat_minor": 5
}
