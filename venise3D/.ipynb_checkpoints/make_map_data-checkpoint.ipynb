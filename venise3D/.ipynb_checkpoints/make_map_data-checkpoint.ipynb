{
 "cells": [
  {
   "cell_type": "code",
   "execution_count": 1,
   "metadata": {},
   "outputs": [],
   "source": [
    "import numpy as np\n",
    "from glob import glob\n",
    "import subprocess\n",
    "import json\n",
    "import folium\n",
    "from folium import IFrame\n",
    "from folium.plugins import MarkerCluster\n",
    "import base64\n",
    "import sys\n",
    "import pyproj\n",
    "from pyproj import Proj, transform, Transformer\n",
    "import os"
   ]
  },
  {
   "cell_type": "code",
   "execution_count": 2,
   "metadata": {},
   "outputs": [],
   "source": [
    "# list of 3D models that have been georeferenced\n",
    "models_list = open('gargantua_georef', 'r').read().split('\\n')\n"
   ]
  },
  {
   "cell_type": "code",
   "execution_count": 3,
   "metadata": {},
   "outputs": [],
   "source": [
    "# create a map centered on Piazza San Marco\n",
    "m = folium.Map(location=[45.434285, 12.338791], zoom_start=14, max_zoom=50, tiles = 'cartodbpositron')\n",
    "\n",
    "# points will have to be changed from Monte Mario 2 to Mercator\n",
    "transformer = Transformer.from_crs(3004, 4326)\n",
    "path_osx = '/Users/Albane/Desktop/gargantua/1000-plane/0000-sfm/'\n",
    "path_unix = '/media/gargantua/1000-plane/0000-sfm/'"
   ]
  },
  {
   "cell_type": "code",
   "execution_count": 7,
   "metadata": {},
   "outputs": [],
   "source": [
    "mc = MarkerCluster()\n",
    "\n",
    "for model in models_list:    \n",
    "    if model != '':\n",
    "        path_csv = path_unix + model[0:4] + \"/\" + model[4:8] + \"/\" + model + \"/geodesy/\" + model + \"-epsg3004.csv\"\n",
    "        map_data = open(path_csv, 'r').read().strip().split('\\n')[1:]\n",
    "        images_path = '/media/gargantua/1000-plane/0000-sfm/' + model[0:4] + \"/\" + model[4:8] + \"/\" + model + \"/images/\"\n",
    "\n",
    "        for marker in map_data:\n",
    "            X,Y,filename = marker.split(',')\n",
    "\n",
    "            if not os.path.isfile('./thumbnails/%s.jpg' % filename):\n",
    "                os.system(\"convert %s%s.tif -thumbnail 300x300^ ./thumbnails/%s.jpg\" % (images_path, filename, filename))\n",
    "\n",
    "            # insert thumbnail in marker's popup\n",
    "            html='<img src=\"./thumbnails/%s.jpg\" width=500 height=350><b> %s </b>' % (filename, filename) \n",
    "            popup = folium.Popup(html, max_width=1000)\n",
    "\n",
    "            lat, lon = transformer.transform(X,Y)\n",
    "            mc.add_child(folium.Marker(location=[lat, lon], popup=popup))\n",
    "            m.add_child(mc)\n",
    "\n",
    "\n",
    "\n"
   ]
  },
  {
   "cell_type": "code",
   "execution_count": 8,
   "metadata": {},
   "outputs": [],
   "source": [
    "m.save('camera_poses.html')"
   ]
  },
  {
   "cell_type": "code",
   "execution_count": null,
   "metadata": {},
   "outputs": [],
   "source": []
  }
 ],
 "metadata": {
  "kernelspec": {
   "display_name": "Python 3",
   "language": "python",
   "name": "python3"
  },
  "language_info": {
   "codemirror_mode": {
    "name": "ipython",
    "version": 3
   },
   "file_extension": ".py",
   "mimetype": "text/x-python",
   "name": "python",
   "nbconvert_exporter": "python",
   "pygments_lexer": "ipython3",
   "version": "3.5.2"
  }
 },
 "nbformat": 4,
 "nbformat_minor": 2
}
